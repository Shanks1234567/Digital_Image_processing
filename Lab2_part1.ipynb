{
  "nbformat": 4,
  "nbformat_minor": 0,
  "metadata": {
    "colab": {
      "provenance": [],
      "authorship_tag": "ABX9TyPGYQ4S5JPAB1rQbCFpkxC6",
      "include_colab_link": true
    },
    "kernelspec": {
      "name": "python3",
      "display_name": "Python 3"
    },
    "language_info": {
      "name": "python"
    }
  },
  "cells": [
    {
      "cell_type": "markdown",
      "metadata": {
        "id": "view-in-github",
        "colab_type": "text"
      },
      "source": [
        "<a href=\"https://colab.research.google.com/github/Shanks1234567/Digital_Image_processing/blob/main/Lab2_part1.ipynb\" target=\"_parent\"><img src=\"https://colab.research.google.com/assets/colab-badge.svg\" alt=\"Open In Colab\"/></a>"
      ]
    },
    {
      "cell_type": "markdown",
      "source": [
        "Lab 02 - Intensity transformations (Part 1)"
      ],
      "metadata": {
        "id": "5rPqWpNsKopU"
      }
    },
    {
      "cell_type": "markdown",
      "source": [
        "mporting the libraries"
      ],
      "metadata": {
        "id": "JSWZILozK2No"
      }
    },
    {
      "cell_type": "code",
      "execution_count": null,
      "metadata": {
        "id": "qa1EnVxjKjY0"
      },
      "outputs": [],
      "source": [
        "import numpy as np\n",
        "from PIL import Image # Import the Pillow library\n",
        "import urllib.request\n",
        "from skimage import util, color\n",
        "\n",
        "import matplotlib\n",
        "import matplotlib.pyplot as plt\n",
        "from mpl_toolkits.axes_grid1 import make_axes_locatable\n",
        "\n",
        "### %matplotlib notebook"
      ]
    }
  ]
}